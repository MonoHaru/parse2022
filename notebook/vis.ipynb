{
 "cells": [
  {
   "cell_type": "code",
   "execution_count": 22,
   "metadata": {},
   "outputs": [],
   "source": [
    "import numpy as np\n",
    "import nibabel as nib\n",
    "import matplotlib.pyplot as plt\n",
    "import random\n",
    "import os"
   ]
  },
  {
   "cell_type": "code",
   "execution_count": 23,
   "metadata": {},
   "outputs": [],
   "source": [
    "args = dict()\n",
    "args['base_path'] = '../data/train'"
   ]
  },
  {
   "cell_type": "code",
   "execution_count": 24,
   "metadata": {},
   "outputs": [
    {
     "name": "stdout",
     "output_type": "stream",
     "text": [
      "PA000115\n"
     ]
    }
   ],
   "source": [
    "fn_list = sorted(os.listdir(args['base_path']))\n",
    "fn_list.remove('keeper')\n",
    "fn = random.choice(fn_list)\n",
    "print(fn)"
   ]
  },
  {
   "cell_type": "code",
   "execution_count": 25,
   "metadata": {},
   "outputs": [
    {
     "name": "stdout",
     "output_type": "stream",
     "text": [
      "../data/train\\PA000115\\image\\PA000115.nii.gz\n",
      "../data/train\\PA000115\\label\\PA000115.nii.gz\n"
     ]
    }
   ],
   "source": [
    "img_fn = os.path.join(args['base_path'], fn, 'image', fn + '.nii.gz')\n",
    "label_fn = os.path.join(args['base_path'], fn, 'label', fn + '.nii.gz')\n",
    "print(img_fn)\n",
    "print(label_fn)\n",
    "assert os.path.isfile(img_fn)\n",
    "assert os.path.isfile(label_fn)"
   ]
  },
  {
   "cell_type": "code",
   "execution_count": 26,
   "metadata": {},
   "outputs": [],
   "source": [
    "def read_nifti(path_to_nifti):\n",
    "    return nib.load((path_to_nifti)).get_fdata()"
   ]
  },
  {
   "cell_type": "code",
   "execution_count": 27,
   "metadata": {},
   "outputs": [],
   "source": [
    "img = read_nifti(img_fn)\n",
    "label = read_nifti(label_fn)"
   ]
  },
  {
   "cell_type": "code",
   "execution_count": 7,
   "metadata": {},
   "outputs": [
    {
     "name": "stdout",
     "output_type": "stream",
     "text": [
      "(512, 512, 390) (512, 512, 390)\n"
     ]
    }
   ],
   "source": [
    "print(img.shape, label.shape)"
   ]
  },
  {
   "cell_type": "code",
   "execution_count": 16,
   "metadata": {},
   "outputs": [],
   "source": [
    "flatten = img.flatten()"
   ]
  },
  {
   "cell_type": "code",
   "execution_count": 19,
   "metadata": {},
   "outputs": [
    {
     "name": "stdout",
     "output_type": "stream",
     "text": [
      "-1024.0\n",
      "3071.0\n"
     ]
    }
   ],
   "source": [
    "print(min(flatten))\n",
    "print(max(flatten))"
   ]
  },
  {
   "cell_type": "code",
   "execution_count": 13,
   "metadata": {},
   "outputs": [
    {
     "data": {
      "image/png": "[encoded data removed]",
      "text/plain": [
       "<Figure size 640x480 with 1 Axes>"
      ]
     },
     "metadata": {},
     "output_type": "display_data"
    }
   ],
   "source": [
    "plt.hist(flatten)\n",
    "plt.show()"
   ]
  },
  {
   "cell_type": "code",
   "execution_count": 8,
   "metadata": {},
   "outputs": [],
   "source": [
    "def vis(s):\n",
    "    plt.figure(figsize=(14, 10))\n",
    "    plt.subplot(1,3,1)\n",
    "    plt.imshow(img[:, :, s], cmap='gray')\n",
    "    plt.subplot(1,3,2)\n",
    "    plt.imshow(label[:, :, s], cmap='gray')\n",
    "    plt.subplot(1,3,3)\n",
    "    plt.imshow(img[:, :, s], cmap='gray')\n",
    "    plt.imshow(label[:, :, s], alpha=0.6, cmap='Greens')\n",
    "    plt.tight_layout()\n",
    "    plt.show()"
   ]
  },
  {
   "cell_type": "code",
   "execution_count": 9,
   "metadata": {},
   "outputs": [
    {
     "data": {
      "application/vnd.jupyter.widget-view+json": {
       "model_id": "1d46e3f1472d4ac39f70f4778f4eadea",
       "version_major": 2,
       "version_minor": 0
      },
      "text/plain": [
       "interactive(children=(IntSlider(value=75, description='s', max=389), Output()), _dom_classes=('widget-interact…"
      ]
     },
     "metadata": {},
     "output_type": "display_data"
    }
   ],
   "source": [
    "from ipywidgets import interact\n",
    "import ipywidgets as widgets\n",
    "\n",
    "interact(vis, ｓ=widgets.IntSlider(min=0, max=img.shape[-1]-1, step=1, value=75));"
   ]
  }
 ],
 "metadata": {
  "interpreter": {
   "hash": "4db7c6183c17f3ebdf6741d4dccaa9f24343c77327ebeb260412ef88c4e8259d"
  },
  "kernelspec": {
   "display_name": "Python 3.8.5 ('hyunseoki')",
   "language": "python",
   "name": "python3"
  },
  "language_info": {
   "codemirror_mode": {
    "name": "ipython",
    "version": 3
   },
   "file_extension": ".py",
   "mimetype": "text/x-python",
   "name": "python",
   "nbconvert_exporter": "python",
   "pygments_lexer": "ipython3",
   "version": "3.8.5"
  },
  "orig_nbformat": 4
 },
 "nbformat": 4,
 "nbformat_minor": 2
}
