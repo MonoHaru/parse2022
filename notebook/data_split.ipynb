{
 "cells": [
  {
   "cell_type": "code",
   "execution_count": 20,
   "metadata": {},
   "outputs": [],
   "source": [
    "import pandas as pd\n",
    "import numpy as np\n",
    "from sklearn.model_selection import KFold\n",
    "import os"
   ]
  },
  {
   "cell_type": "code",
   "execution_count": 21,
   "metadata": {},
   "outputs": [],
   "source": [
    "fn_list = sorted(os.listdir('../data/train'))\n",
    "fn_list.remove('keeper')\n",
    "fn_list = np.array(fn_list)"
   ]
  },
  {
   "cell_type": "code",
   "execution_count": 22,
   "metadata": {},
   "outputs": [],
   "source": [
    "cols = ['kfold_idx', 'mode', 'fn']\n",
    "dataset_csv = pd.DataFrame(columns=cols)"
   ]
  },
  {
   "cell_type": "code",
   "execution_count": 23,
   "metadata": {},
   "outputs": [],
   "source": [
    "kf = KFold(n_splits=4, shuffle=True, random_state=42)"
   ]
  },
  {
   "cell_type": "code",
   "execution_count": 24,
   "metadata": {},
   "outputs": [],
   "source": [
    "for idx, (train_index, valid_index) in enumerate(kf.split(fn_list)):\n",
    "    train_fns = fn_list[train_index]\n",
    "    valid_fns = fn_list[valid_index]\n",
    "\n",
    "    for fn in train_fns:\n",
    "        dataset_csv = dataset_csv.append(\n",
    "            {\n",
    "                'kfold_idx': idx,\n",
    "                'mode': 'train',\n",
    "                'fn' : fn\n",
    "            }, ignore_index=True,\n",
    "        )\n",
    "\n",
    "    for fn in valid_fns:\n",
    "        dataset_csv = dataset_csv.append(\n",
    "            {\n",
    "                'kfold_idx': idx,\n",
    "                'mode': 'valid',\n",
    "                'fn' : fn\n",
    "            }, ignore_index=True,\n",
    "        )"
   ]
  },
  {
   "cell_type": "code",
   "execution_count": 25,
   "metadata": {},
   "outputs": [
    {
     "data": {
      "text/html": [
       "<div>\n",
       "<style scoped>\n",
       "    .dataframe tbody tr th:only-of-type {\n",
       "        vertical-align: middle;\n",
       "    }\n",
       "\n",
       "    .dataframe tbody tr th {\n",
       "        vertical-align: top;\n",
       "    }\n",
       "\n",
       "    .dataframe thead th {\n",
       "        text-align: right;\n",
       "    }\n",
       "</style>\n",
       "<table border=\"1\" class=\"dataframe\">\n",
       "  <thead>\n",
       "    <tr style=\"text-align: right;\">\n",
       "      <th></th>\n",
       "      <th>kfold_idx</th>\n",
       "      <th>mode</th>\n",
       "      <th>fn</th>\n",
       "    </tr>\n",
       "  </thead>\n",
       "  <tbody>\n",
       "    <tr>\n",
       "      <th>0</th>\n",
       "      <td>0</td>\n",
       "      <td>train</td>\n",
       "      <td>PA000016</td>\n",
       "    </tr>\n",
       "    <tr>\n",
       "      <th>1</th>\n",
       "      <td>0</td>\n",
       "      <td>train</td>\n",
       "      <td>PA000024</td>\n",
       "    </tr>\n",
       "    <tr>\n",
       "      <th>2</th>\n",
       "      <td>0</td>\n",
       "      <td>train</td>\n",
       "      <td>PA000026</td>\n",
       "    </tr>\n",
       "    <tr>\n",
       "      <th>3</th>\n",
       "      <td>0</td>\n",
       "      <td>train</td>\n",
       "      <td>PA000036</td>\n",
       "    </tr>\n",
       "    <tr>\n",
       "      <th>4</th>\n",
       "      <td>0</td>\n",
       "      <td>train</td>\n",
       "      <td>PA000038</td>\n",
       "    </tr>\n",
       "    <tr>\n",
       "      <th>...</th>\n",
       "      <td>...</td>\n",
       "      <td>...</td>\n",
       "      <td>...</td>\n",
       "    </tr>\n",
       "    <tr>\n",
       "      <th>395</th>\n",
       "      <td>3</td>\n",
       "      <td>valid</td>\n",
       "      <td>PA000297</td>\n",
       "    </tr>\n",
       "    <tr>\n",
       "      <th>396</th>\n",
       "      <td>3</td>\n",
       "      <td>valid</td>\n",
       "      <td>PA000298</td>\n",
       "    </tr>\n",
       "    <tr>\n",
       "      <th>397</th>\n",
       "      <td>3</td>\n",
       "      <td>valid</td>\n",
       "      <td>PA000303</td>\n",
       "    </tr>\n",
       "    <tr>\n",
       "      <th>398</th>\n",
       "      <td>3</td>\n",
       "      <td>valid</td>\n",
       "      <td>PA000305</td>\n",
       "    </tr>\n",
       "    <tr>\n",
       "      <th>399</th>\n",
       "      <td>3</td>\n",
       "      <td>valid</td>\n",
       "      <td>PA000309</td>\n",
       "    </tr>\n",
       "  </tbody>\n",
       "</table>\n",
       "<p>400 rows × 3 columns</p>\n",
       "</div>"
      ],
      "text/plain": [
       "    kfold_idx   mode        fn\n",
       "0           0  train  PA000016\n",
       "1           0  train  PA000024\n",
       "2           0  train  PA000026\n",
       "3           0  train  PA000036\n",
       "4           0  train  PA000038\n",
       "..        ...    ...       ...\n",
       "395         3  valid  PA000297\n",
       "396         3  valid  PA000298\n",
       "397         3  valid  PA000303\n",
       "398         3  valid  PA000305\n",
       "399         3  valid  PA000309\n",
       "\n",
       "[400 rows x 3 columns]"
      ]
     },
     "execution_count": 25,
     "metadata": {},
     "output_type": "execute_result"
    }
   ],
   "source": [
    "dataset_csv.to_csv('../data/data_split.csv', index=False, sep=',')\n",
    "dataset_csv"
   ]
  }
 ],
 "metadata": {
  "interpreter": {
   "hash": "4db7c6183c17f3ebdf6741d4dccaa9f24343c77327ebeb260412ef88c4e8259d"
  },
  "kernelspec": {
   "display_name": "Python 3.8.5 ('hyunseoki')",
   "language": "python",
   "name": "python3"
  },
  "language_info": {
   "codemirror_mode": {
    "name": "ipython",
    "version": 3
   },
   "file_extension": ".py",
   "mimetype": "text/x-python",
   "name": "python",
   "nbconvert_exporter": "python",
   "pygments_lexer": "ipython3",
   "version": "3.8.5"
  },
  "orig_nbformat": 4
 },
 "nbformat": 4,
 "nbformat_minor": 2
}
